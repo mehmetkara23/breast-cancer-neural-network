{
 "cells": [
  {
   "cell_type": "code",
   "execution_count": 155,
   "metadata": {},
   "outputs": [
    {
     "data": {
      "text/plain": [
       "-1"
      ]
     },
     "execution_count": 155,
     "metadata": {},
     "output_type": "execute_result"
    }
   ],
   "source": [
    "import numpy as np\n",
    "import math\n",
    "from sklearn.model_selection import train_test_split\n",
    "\n",
    "a = 5\n",
    "a = a = -1\n",
    "a"
   ]
  },
  {
   "cell_type": "code",
   "execution_count": 49,
   "metadata": {},
   "outputs": [
    {
     "data": {
      "text/plain": [
       "array([[  1.   ,  14.99 ,  25.2  ,  95.54 , 698.8  ,   9.387,   5.131,\n",
       "          2.398,   2.899,   1.565,   5.504,   1.214,   2.188,   8.077,\n",
       "        106.   ,   6.883,   1.094,   1.818,   1.917,   7.882,   1.754,\n",
       "         14.99 ,  25.2  ,  95.54 , 698.8  ,   9.387,   5.131,   2.398,\n",
       "          2.899,   1.565,   5.504]])"
      ]
     },
     "execution_count": 49,
     "metadata": {},
     "output_type": "execute_result"
    }
   ],
   "source": [
    "\n",
    "feature = np.genfromtxt('data.csv',delimiter=',',encoding= 'utf8')\n",
    "\n"
   ]
  },
  {
   "cell_type": "code",
   "execution_count": 29,
   "metadata": {},
   "outputs": [
    {
     "data": {
      "text/plain": [
       "array([[0.61046085, 0.2863049 , 0.30734534, ..., 0.96651948, 0.39116567,\n",
       "        0.97313406],\n",
       "       [0.2335258 , 0.15569632, 0.98280313, ..., 0.12676991, 0.23384107,\n",
       "        0.6582992 ],\n",
       "       [0.39874996, 0.66293031, 0.27911266, ..., 0.94036169, 0.50459242,\n",
       "        0.72463972],\n",
       "       ...,\n",
       "       [0.55029912, 0.86089545, 0.77014192, ..., 0.4389365 , 0.39309051,\n",
       "        0.21728669],\n",
       "       [0.40069534, 0.28349448, 0.31288588, ..., 0.88215346, 0.33012246,\n",
       "        0.75971457],\n",
       "       [0.78467367, 0.13423037, 0.31900568, ..., 0.52075915, 0.89275226,\n",
       "        0.62455824]])"
      ]
     },
     "execution_count": 29,
     "metadata": {},
     "output_type": "execute_result"
    }
   ],
   "source": [
    "weight =  np.random.rand(569, 31)\n",
    "weight\n"
   ]
  },
  {
   "cell_type": "code",
   "execution_count": 195,
   "metadata": {},
   "outputs": [],
   "source": [
    "\n",
    "def activation(x):\n",
    " return 1/(1 + np.exp(-x))\n",
    "def calc(n):\n",
    "     mul = feature[n:n+1] * weight[n:n+1]\n",
    "     sum = np.sum(mul)\n",
    "     pred = activation(sum)\n",
    "     return pred\n",
    "\n",
    "def updatew(n):\n",
    "     a = (feature[n:n+1,0:1] - calc(n))**2\n",
    "     loss = int(a[0,0])\n",
    "     if loss != 0:\n",
    "          new = weight[n:n+1] + (0.01*feature[n:n+1,0:1] - calc(n) )*feature[n:n+1]\n",
    "          weight[n] = new\n",
    "\n",
    "\n",
    "\n",
    "\n",
    "\n",
    "     \n",
    "          "
   ]
  },
  {
   "cell_type": "code",
   "execution_count": 237,
   "metadata": {},
   "outputs": [
    {
     "name": "stderr",
     "output_type": "stream",
     "text": [
      "/var/folders/ft/fyg_2cl540nc4nhxf1pz33180000gn/T/ipykernel_16303/857636604.py:2: RuntimeWarning: overflow encountered in exp\n",
      "  return 1/(1 + np.exp(-x))\n"
     ]
    },
    {
     "ename": "KeyboardInterrupt",
     "evalue": "",
     "output_type": "error",
     "traceback": [
      "\u001b[0;31m---------------------------------------------------------------------------\u001b[0m",
      "\u001b[0;31mKeyboardInterrupt\u001b[0m                         Traceback (most recent call last)",
      "Cell \u001b[0;32mIn[237], line 11\u001b[0m\n\u001b[1;32m      9\u001b[0m wrong \u001b[38;5;241m+\u001b[39m\u001b[38;5;241m=\u001b[39m\u001b[38;5;241m1\u001b[39m\n\u001b[1;32m     10\u001b[0m \u001b[38;5;28;01mwhile\u001b[39;00m \u001b[38;5;28;01mTrue\u001b[39;00m:\n\u001b[0;32m---> 11\u001b[0m     pred \u001b[38;5;241m=\u001b[39m \u001b[43mupdatew\u001b[49m\u001b[43m(\u001b[49m\u001b[43mi\u001b[49m\u001b[43m)\u001b[49m\n\u001b[1;32m     12\u001b[0m     \u001b[38;5;28;01mif\u001b[39;00m pred \u001b[38;5;241m==\u001b[39m feature[i:i\u001b[38;5;241m+\u001b[39m\u001b[38;5;241m1\u001b[39m,\u001b[38;5;241m0\u001b[39m:\u001b[38;5;241m1\u001b[39m]:\n\u001b[1;32m     13\u001b[0m         wrong\u001b[38;5;241m=\u001b[39m\u001b[38;5;241m0\u001b[39m\n",
      "Cell \u001b[0;32mIn[195], line 11\u001b[0m, in \u001b[0;36mupdatew\u001b[0;34m(n)\u001b[0m\n\u001b[1;32m      9\u001b[0m \u001b[38;5;28;01mdef\u001b[39;00m \u001b[38;5;21mupdatew\u001b[39m(n):\n\u001b[1;32m     10\u001b[0m      a \u001b[38;5;241m=\u001b[39m (feature[n:n\u001b[38;5;241m+\u001b[39m\u001b[38;5;241m1\u001b[39m,\u001b[38;5;241m0\u001b[39m:\u001b[38;5;241m1\u001b[39m] \u001b[38;5;241m-\u001b[39m calc(n))\u001b[38;5;241m*\u001b[39m\u001b[38;5;241m*\u001b[39m\u001b[38;5;241m2\u001b[39m\n\u001b[0;32m---> 11\u001b[0m      loss \u001b[38;5;241m=\u001b[39m \u001b[38;5;28;43mint\u001b[39;49m\u001b[43m(\u001b[49m\u001b[43ma\u001b[49m\u001b[43m[\u001b[49m\u001b[38;5;241;43m0\u001b[39;49m\u001b[43m,\u001b[49m\u001b[38;5;241;43m0\u001b[39;49m\u001b[43m]\u001b[49m\u001b[43m)\u001b[49m\n\u001b[1;32m     12\u001b[0m      \u001b[38;5;28;01mif\u001b[39;00m loss \u001b[38;5;241m!=\u001b[39m \u001b[38;5;241m0\u001b[39m:\n\u001b[1;32m     13\u001b[0m           new \u001b[38;5;241m=\u001b[39m weight[n:n\u001b[38;5;241m+\u001b[39m\u001b[38;5;241m1\u001b[39m] \u001b[38;5;241m+\u001b[39m (\u001b[38;5;241m0.01\u001b[39m\u001b[38;5;241m*\u001b[39mfeature[n:n\u001b[38;5;241m+\u001b[39m\u001b[38;5;241m1\u001b[39m,\u001b[38;5;241m0\u001b[39m:\u001b[38;5;241m1\u001b[39m] \u001b[38;5;241m-\u001b[39m calc(n) )\u001b[38;5;241m*\u001b[39mfeature[n:n\u001b[38;5;241m+\u001b[39m\u001b[38;5;241m1\u001b[39m]\n",
      "\u001b[0;31mKeyboardInterrupt\u001b[0m: "
     ]
    }
   ],
   "source": [
    "correct = 0\n",
    "wrong = 0\n",
    "\n",
    "for i in range(300):\n",
    "    pred = calc(i)\n",
    "    if pred == feature[i:i+1,0:1]:\n",
    "        correct+=1\n",
    "    else:\n",
    "        wrong +=1\n",
    "        while True:\n",
    "            pred = updatew(i)\n",
    "            if pred == feature[i:i+1,0:1]:\n",
    "                wrong=0\n",
    "                break\n",
    "            else:\n",
    "               continue\n",
    "\n",
    "print(correct)\n",
    "print(wrong)"
   ]
  },
  {
   "cell_type": "code",
   "execution_count": null,
   "metadata": {},
   "outputs": [],
   "source": [
    " "
   ]
  }
 ],
 "metadata": {
  "kernelspec": {
   "display_name": "Python 3",
   "language": "python",
   "name": "python3"
  },
  "language_info": {
   "codemirror_mode": {
    "name": "ipython",
    "version": 3
   },
   "file_extension": ".py",
   "mimetype": "text/x-python",
   "name": "python",
   "nbconvert_exporter": "python",
   "pygments_lexer": "ipython3",
   "version": "3.10.2"
  }
 },
 "nbformat": 4,
 "nbformat_minor": 2
}
